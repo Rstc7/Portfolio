{
 "cells": [
  {
   "cell_type": "markdown",
   "metadata": {},
   "source": [
    "Implementation de la formule de Black - Scholes en python"
   ]
  },
  {
   "cell_type": "code",
   "execution_count": 30,
   "metadata": {},
   "outputs": [
    {
     "name": "stdout",
     "output_type": "stream",
     "text": [
      "Option price : 0.5132843798399405\n"
     ]
    }
   ],
   "source": [
    "import numpy as np\n",
    "from scipy.stats import norm\n",
    "\n",
    "### Définition des variables ###\n",
    "\n",
    "r = 0.01                                # Interest Rate\n",
    "S = 30                                  # Underline\n",
    "K = 40                                  # Strike Price\n",
    "T = 240/365                             # Time\n",
    "sigma = 0.30                            # Volatility\n",
    "\n",
    "### Définition de la fonction ###\n",
    "\n",
    "def BlackScholes(r, S, K, T, sigma, type =\"c\"):\n",
    "    d1 = (np.log(S/K) + (r + sigma**2/2) * T)/(sigma * np.sqrt(T))\n",
    "    d2 = d1 - sigma * np.sqrt(T)\n",
    "    try:\n",
    "        if type == \"c\":\n",
    "            price = S*norm.cdf(d1, 0, 1) - K*np.exp(-r*T)*norm.cdf(d2, 0, 1)\n",
    "        elif type == \"p\":\n",
    "            price = K*np.exp(-r*T)*norm.cdf(-d2, 0, 1) - S*norm.cdf(-d1, 0, 1)\n",
    "        return price\n",
    "    except:\n",
    "        print(\"Please confirm option type, either 'c' for Call or 'p' for Put!\")\n",
    "\n",
    "print(f\"Option price : {BlackScholes(r, S, K, T, sigma,type=\"c\")}\")"
   ]
  },
  {
   "cell_type": "markdown",
   "metadata": {},
   "source": [
    "DELTA"
   ]
  },
  {
   "cell_type": "markdown",
   "metadata": {},
   "source": [
    "Delta mesure le taux de variation de la valeur théorique d'une option par rapport aux variations du prix de l'actif sous-jacent."
   ]
  },
  {
   "cell_type": "markdown",
   "metadata": {},
   "source": [
    "![alt text](image.png)"
   ]
  },
  {
   "cell_type": "code",
   "execution_count": 31,
   "metadata": {},
   "outputs": [],
   "source": [
    "def delta_calc(r, S, K, T, sigma, type=\"c\"):\n",
    "    \"Calculate delta of an option\"\n",
    "    d1 = (np.log(S/K) + (r + sigma**2/2)*T)/(sigma*np.sqrt(T))\n",
    "    try:\n",
    "        if type == \"c\":\n",
    "            delta_calc = norm.cdf(d1, 0, 1)\n",
    "        elif type == \"p\":\n",
    "            delta_calc = -norm.cdf(-d1, 0, 1)\n",
    "        return delta_calc\n",
    "    except:\n",
    "        print(\"Please confirm option type, either 'c' for Call or 'p' for Put!\")\n"
   ]
  },
  {
   "cell_type": "markdown",
   "metadata": {},
   "source": [
    "GAMMA"
   ]
  },
  {
   "cell_type": "markdown",
   "metadata": {},
   "source": [
    "Gamma mesure le taux de variation du delta par rapport aux variations du prix de l'actif sous-jacent."
   ]
  },
  {
   "attachments": {
    "image.png": {
     "image/png": "[encoded data removed]"
    }
   },
   "cell_type": "markdown",
   "metadata": {},
   "source": [
    "![image.png](attachment:image.png)"
   ]
  },
  {
   "cell_type": "code",
   "execution_count": 32,
   "metadata": {},
   "outputs": [],
   "source": [
    "def gamma_calc(r, S, K, T, sigma, type=\"c\"):\n",
    "    \"Calculate gamma of a option\"\n",
    "    d1 = (np.log(S/K) + (r + sigma**2/2)*T)/(sigma*np.sqrt(T))\n",
    "    d2 = d1 - sigma*np.sqrt(T)\n",
    "    try:\n",
    "        gamma_calc = norm.pdf(d1, 0, 1)/(S*sigma*np.sqrt(T))\n",
    "        return gamma_calc\n",
    "    except:\n",
    "        print(\"Please confirm option type, either 'c' for Call or 'p' for Put!\")"
   ]
  },
  {
   "cell_type": "markdown",
   "metadata": {},
   "source": [
    "VEGA"
   ]
  },
  {
   "cell_type": "markdown",
   "metadata": {},
   "source": [
    "Vega mesure la sensibilité à la volatilité. Il s'agit de la dérivée de la valeur de l'option par rapport à la volatilité de l'actif sous-jacent."
   ]
  },
  {
   "attachments": {
    "image.png": {
     "image/png": "[encoded data removed]"
    }
   },
   "cell_type": "markdown",
   "metadata": {},
   "source": [
    "![image.png](attachment:image.png)"
   ]
  },
  {
   "cell_type": "code",
   "execution_count": 33,
   "metadata": {},
   "outputs": [],
   "source": [
    "def vega_calc(r, S, K, T, sigma, type=\"c\"):\n",
    "    \"Calculate BS price of call/put\"\n",
    "    d1 = (np.log(S/K) + (r + sigma**2/2)*T)/(sigma*np.sqrt(T))\n",
    "    d2 = d1 - sigma*np.sqrt(T)\n",
    "    try:\n",
    "        vega_calc = S*norm.pdf(d1, 0, 1)*np.sqrt(T)\n",
    "        return vega_calc*0.01\n",
    "    except:\n",
    "        print(\"Please confirm option type, either 'c' for Call or 'p' for Put!\")"
   ]
  },
  {
   "cell_type": "markdown",
   "metadata": {},
   "source": [
    "THETA"
   ]
  },
  {
   "cell_type": "markdown",
   "metadata": {},
   "source": [
    "Theta mesure la sensibilité de la valeur du dérivé au passage du temps, également appelé érosion temporelle."
   ]
  },
  {
   "attachments": {
    "image.png": {
     "image/png": "[encoded data removed]"
    }
   },
   "cell_type": "markdown",
   "metadata": {},
   "source": [
    "![image.png](attachment:image.png)"
   ]
  },
  {
   "cell_type": "code",
   "execution_count": 34,
   "metadata": {},
   "outputs": [],
   "source": [
    "def theta_calc(r, S, K, T, sigma, type=\"c\"):\n",
    "    \"Calculate BS price of call/put\"\n",
    "    d1 = (np.log(S/K) + (r + sigma**2/2)*T)/(sigma*np.sqrt(T))\n",
    "    d2 = d1 - sigma*np.sqrt(T)\n",
    "    try:\n",
    "        if type == \"c\":\n",
    "            theta_calc = -S*norm.pdf(d1, 0, 1)*sigma/(2*np.sqrt(T)) - r*K*np.exp(-r*T)*norm.cdf(d2, 0, 1)\n",
    "        elif type == \"p\":\n",
    "            theta_calc = -S*norm.pdf(d1, 0, 1)*sigma/(2*np.sqrt(T)) + r*K*np.exp(-r*T)*norm.cdf(-d2, 0, 1)\n",
    "        return theta_calc/365\n",
    "    except:\n",
    "        print(\"Please confirm option type, either 'c' for Call or 'p' for Put!\")"
   ]
  },
  {
   "cell_type": "markdown",
   "metadata": {},
   "source": [
    "RHO"
   ]
  },
  {
   "cell_type": "markdown",
   "metadata": {},
   "source": [
    "Rho mesure la sensibilité de la valeur de l'option aux variations du taux d'intérêt."
   ]
  },
  {
   "attachments": {
    "image.png": {
     "image/png": "[encoded data removed]"
    }
   },
   "cell_type": "markdown",
   "metadata": {},
   "source": [
    "![image.png](attachment:image.png)"
   ]
  },
  {
   "cell_type": "code",
   "execution_count": 35,
   "metadata": {},
   "outputs": [],
   "source": [
    "def rho_calc(r, S, K, T, sigma, type=\"c\"):\n",
    "    \"Calculate BS price of call/put\"\n",
    "    d1 = (np.log(S/K) + (r + sigma**2/2)*T)/(sigma*np.sqrt(T))\n",
    "    d2 = d1 - sigma*np.sqrt(T)\n",
    "    try:\n",
    "        if type == \"c\":\n",
    "            rho_calc = K*T*np.exp(-r*T)*norm.cdf(d2, 0, 1)\n",
    "        elif type == \"p\":\n",
    "            rho_calc = -K*T*np.exp(-r*T)*norm.cdf(-d2, 0, 1)\n",
    "        return rho_calc*0.01\n",
    "    except:\n",
    "        print(\"Please confirm option type, either 'c' for Call or 'p' for Put!\")"
   ]
  },
  {
   "cell_type": "markdown",
   "metadata": {},
   "source": [
    "Enfin :"
   ]
  },
  {
   "cell_type": "code",
   "execution_count": 36,
   "metadata": {},
   "outputs": [
    {
     "name": "stdout",
     "output_type": "stream",
     "text": [
      "Option Price:  0.513\n",
      "       Delta:  0.151\n",
      "       Gamma:  0.032\n",
      "       Vega :  0.057\n",
      "       Theta:  -0.004\n",
      "       Rho  :  0.026\n"
     ]
    }
   ],
   "source": [
    "option_type='c'\n",
    "\n",
    "print(\"Option Price: \", round(BlackScholes(r, S, K, T, sigma, option_type), 3))\n",
    "print(\"       Delta: \", round(delta_calc(r, S, K, T, sigma, option_type), 3))\n",
    "print(\"       Gamma: \", round(gamma_calc(r, S, K, T, sigma, option_type), 3))\n",
    "print(\"       Vega : \", round(vega_calc(r, S, K, T, sigma, option_type), 3))\n",
    "print(\"       Theta: \", round(theta_calc(r, S, K, T, sigma, option_type), 3))\n",
    "print(\"       Rho  : \", round(rho_calc(r, S, K, T, sigma, option_type), 3))"
   ]
  }
 ],
 "metadata": {
  "kernelspec": {
   "display_name": "Python 3",
   "language": "python",
   "name": "python3"
  },
  "language_info": {
   "codemirror_mode": {
    "name": "ipython",
    "version": 3
   },
   "file_extension": ".py",
   "mimetype": "text/x-python",
   "name": "python",
   "nbconvert_exporter": "python",
   "pygments_lexer": "ipython3",
   "version": "3.13.1"
  }
 },
 "nbformat": 4,
 "nbformat_minor": 2
}
