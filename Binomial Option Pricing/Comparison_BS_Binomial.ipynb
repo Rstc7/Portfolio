{
 "cells": [
  {
   "cell_type": "code",
   "execution_count": 1,
   "metadata": {},
   "outputs": [
    {
     "name": "stdout",
     "output_type": "stream",
     "text": [
      "Black-Scholes Price: 10.4506\n",
      "Binomial Tree Price (100 steps): 10.4306\n"
     ]
    }
   ],
   "source": [
    "import numpy as np\n",
    "from scipy.stats import norm\n",
    "\n",
    "def BlackScholes(r, S, K, T, sigma, type=\"c\"):\n",
    "    d1 = (np.log(S/K) + (r + sigma**2/2) * T) / (sigma * np.sqrt(T))\n",
    "    d2 = d1 - sigma * np.sqrt(T)\n",
    "    \n",
    "    if type == \"c\":\n",
    "        price = S * norm.cdf(d1) - K * np.exp(-r * T) * norm.cdf(d2)\n",
    "    elif type == \"p\":\n",
    "        price = K * np.exp(-r * T) * norm.cdf(-d2) - S * norm.cdf(-d1)\n",
    "    else:\n",
    "        return None\n",
    "    \n",
    "    return price\n",
    "\n",
    "def binomial_tree(K, S0, sigma, T, N, r, option_type='C'):\n",
    "    dt = T / N\n",
    "    u = np.exp(sigma * np.sqrt(dt))\n",
    "    d = np.exp(-sigma * np.sqrt(dt))\n",
    "    p = (np.exp(r * dt) - d) / (u - d)\n",
    "    disc = np.exp(-r * dt)\n",
    "\n",
    "    S = np.array([S0 * (u**j) * (d**(N-j)) for j in range(N+1)])\n",
    "\n",
    "    if option_type == 'C':\n",
    "        O = np.maximum(S - K, 0)\n",
    "    else:\n",
    "        O = np.maximum(K - S, 0)\n",
    "\n",
    "    for i in range(N-1, -1, -1):\n",
    "        O = disc * (p * O[1:i+2] + (1-p) * O[:i+1])\n",
    "\n",
    "    return O[0]\n",
    "\n",
    "def compare_models(S0, K, T, sigma, r, N=100, option_type='C'):\n",
    "    bs_price = BlackScholes(r, S0, K, T, sigma, type=option_type.lower())\n",
    "    bt_price = binomial_tree(K, S0, sigma, T, N, r, option_type)\n",
    "\n",
    "    print(f\"Black-Scholes Price: {bs_price:.4f}\")\n",
    "    print(f\"Binomial Tree Price ({N} steps): {bt_price:.4f}\")\n",
    "\n",
    "compare_models(S0=100, K=100, T=1, sigma=0.2, r=0.05, N=100, option_type='C')\n"
   ]
  },
  {
   "cell_type": "code",
   "execution_count": 2,
   "metadata": {},
   "outputs": [
    {
     "name": "stdout",
     "output_type": "stream",
     "text": [
      "Black-Scholes Price: 10.4506\n",
      "Binomial Tree Price (1000 steps): 10.4486\n"
     ]
    }
   ],
   "source": [
    "compare_models(S0=100, K=100, T=1, sigma=0.2, r=0.05, N=1000, option_type='C')"
   ]
  },
  {
   "cell_type": "code",
   "execution_count": 3,
   "metadata": {},
   "outputs": [
    {
     "name": "stdout",
     "output_type": "stream",
     "text": [
      "Black-Scholes Price: 10.4506\n",
      "Binomial Tree Price (10000 steps): 10.4504\n"
     ]
    }
   ],
   "source": [
    "compare_models(S0=100, K=100, T=1, sigma=0.2, r=0.05, N=10000, option_type='C')"
   ]
  },
  {
   "cell_type": "code",
   "execution_count": 4,
   "metadata": {},
   "outputs": [
    {
     "name": "stdout",
     "output_type": "stream",
     "text": [
      "Black-Scholes Price: 10.4506\n",
      "Binomial Tree Price (100000 steps): 10.4506\n"
     ]
    }
   ],
   "source": [
    "compare_models(S0=100, K=100, T=1, sigma=0.2, r=0.05, N=100000, option_type='C')"
   ]
  },
  {
   "cell_type": "markdown",
   "metadata": {},
   "source": [
    "## Conclusion\n",
    "\n",
    "We can see that even with a large number of steps, the binomial model is significantly less efficient than the Black-Scholes-Merton model, as its convergence is weaker. For pricing European options, Black-Scholes should be used. However, the binomial model can still be useful for pricing American options, where early exercise is possible.\n",
    "\n",
    "To improve its efficiency, repo rates or dividends should be incorporated for call options, while interest rates need to be adjusted for puts. More robust models exist, offering greater flexibility in pricing various option types, such as the Crank-Nicholson model (finite difference method)."
   ]
  }
 ],
 "metadata": {
  "kernelspec": {
   "display_name": "Python 3",
   "language": "python",
   "name": "python3"
  },
  "language_info": {
   "codemirror_mode": {
    "name": "ipython",
    "version": 3
   },
   "file_extension": ".py",
   "mimetype": "text/x-python",
   "name": "python",
   "nbconvert_exporter": "python",
   "pygments_lexer": "ipython3",
   "version": "3.13.1"
  }
 },
 "nbformat": 4,
 "nbformat_minor": 2
}
