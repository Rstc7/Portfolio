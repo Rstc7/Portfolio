{
 "cells": [
  {
   "cell_type": "markdown",
   "metadata": {},
   "source": [
    "### Let's create an option pricing algorithm for European options using a binomial model."
   ]
  },
  {
   "cell_type": "code",
   "execution_count": 30,
   "metadata": {},
   "outputs": [],
   "source": [
    "import numpy as np\n",
    "from scipy.stats import norm"
   ]
  },
  {
   "cell_type": "markdown",
   "metadata": {},
   "source": [
    "#### Paramètres"
   ]
  },
  {
   "cell_type": "code",
   "execution_count": 31,
   "metadata": {},
   "outputs": [],
   "source": [
    "K = 120               # Strike Price\n",
    "S0 = 120              # Underlying Price\n",
    "sigma = 0.5           # Volatility\n",
    "r = 0.03              # Risk-Free Rate\n",
    "T = 1                 # Time \n",
    "N = 300               # Period\n",
    "type = 'C'            # Option Type (Call or Put)"
   ]
  },
  {
   "cell_type": "markdown",
   "metadata": {},
   "source": [
    "$ S_{i,j} = S_0u^jd^{i-j} $"
   ]
  },
  {
   "cell_type": "markdown",
   "metadata": {},
   "source": [
    "$ f_{i,j} = e^{-r\\Delta t}[pf_{i+1,j+1}+(1-p)f_{i+1,j}] $"
   ]
  },
  {
   "cell_type": "markdown",
   "metadata": {},
   "source": [
    "#### Logic"
   ]
  },
  {
   "cell_type": "code",
   "execution_count": 32,
   "metadata": {},
   "outputs": [],
   "source": [
    "def binomial_tree(K, S0, sigma, T, N, type = 'C'):\n",
    "\n",
    "    dt = T / N\n",
    "    a = np.exp(r * dt)\n",
    "    u = np.exp(sigma * np.sqrt(dt))\n",
    "    d = np.exp(- sigma * np.sqrt(dt))\n",
    "    p = (a - d) / (u - d)\n",
    "\n",
    "    disc = np.exp(-r * dt)\n",
    "\n",
    "    S = S0 * d ** np.arange(N, -1, -1) * u ** np.arange(0, N+1, 1)\n",
    "\n",
    "    if type == 'C':\n",
    "        O = np.maximum(S - K, 0)\n",
    "    else:\n",
    "        O = np.maximum(K - S, 0)\n",
    "\n",
    "    for i in np.arange(N-1, -1, -1):\n",
    "        O = disc * (O[1:i+2] * p + O[:i+1] * (1-p))\n",
    "\n",
    "    return O[0]"
   ]
  },
  {
   "cell_type": "code",
   "execution_count": 39,
   "metadata": {},
   "outputs": [
    {
     "name": "stdout",
     "output_type": "stream",
     "text": [
      "Le prix de l'option est  25.13 €\n"
     ]
    }
   ],
   "source": [
    "print(f\"Option Price : {round(binomial_tree(K, S0, sigma, T, N, type = 'C'), 2)} €\")"
   ]
  }
 ],
 "metadata": {
  "kernelspec": {
   "display_name": "Python 3",
   "language": "python",
   "name": "python3"
  },
  "language_info": {
   "codemirror_mode": {
    "name": "ipython",
    "version": 3
   },
   "file_extension": ".py",
   "mimetype": "text/x-python",
   "name": "python",
   "nbconvert_exporter": "python",
   "pygments_lexer": "ipython3",
   "version": "3.13.1"
  }
 },
 "nbformat": 4,
 "nbformat_minor": 2
}
